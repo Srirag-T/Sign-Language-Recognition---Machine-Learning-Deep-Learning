{
 "cells": [
  {
   "cell_type": "code",
   "execution_count": 2,
   "metadata": {
    "id": "6ItXz9bp3Vly"
   },
   "outputs": [],
   "source": [
    "import numpy as np\n",
    "import pandas as pd \n",
    "import seaborn as sns\n",
    "import matplotlib.pyplot as plt\n",
    "from sklearn.preprocessing import LabelEncoder"
   ]
  },
  {
   "cell_type": "code",
   "execution_count": 3,
   "metadata": {
    "id": "CdYm3lmS3fHG"
   },
   "outputs": [],
   "source": [
    "train = pd.read_csv(\"D:/sign_mnist_train.csv\")\n",
    "validation_set = pd.read_csv(\"D:/sign_mnist_test.csv\")"
   ]
  },
  {
   "cell_type": "code",
   "execution_count": 4,
   "metadata": {
    "colab": {
     "base_uri": "https://localhost:8080/",
     "height": 245
    },
    "id": "YJXlOuTa3hzW",
    "outputId": "12736213-e8a2-4e8c-f0a6-f272fe1a73f7"
   },
   "outputs": [
    {
     "data": {
      "text/html": [
       "<div>\n",
       "<style scoped>\n",
       "    .dataframe tbody tr th:only-of-type {\n",
       "        vertical-align: middle;\n",
       "    }\n",
       "\n",
       "    .dataframe tbody tr th {\n",
       "        vertical-align: top;\n",
       "    }\n",
       "\n",
       "    .dataframe thead th {\n",
       "        text-align: right;\n",
       "    }\n",
       "</style>\n",
       "<table border=\"1\" class=\"dataframe\">\n",
       "  <thead>\n",
       "    <tr style=\"text-align: right;\">\n",
       "      <th></th>\n",
       "      <th>label</th>\n",
       "      <th>pixel1</th>\n",
       "      <th>pixel2</th>\n",
       "      <th>pixel3</th>\n",
       "      <th>pixel4</th>\n",
       "      <th>pixel5</th>\n",
       "      <th>pixel6</th>\n",
       "      <th>pixel7</th>\n",
       "      <th>pixel8</th>\n",
       "      <th>pixel9</th>\n",
       "      <th>...</th>\n",
       "      <th>pixel775</th>\n",
       "      <th>pixel776</th>\n",
       "      <th>pixel777</th>\n",
       "      <th>pixel778</th>\n",
       "      <th>pixel779</th>\n",
       "      <th>pixel780</th>\n",
       "      <th>pixel781</th>\n",
       "      <th>pixel782</th>\n",
       "      <th>pixel783</th>\n",
       "      <th>pixel784</th>\n",
       "    </tr>\n",
       "  </thead>\n",
       "  <tbody>\n",
       "    <tr>\n",
       "      <td>0</td>\n",
       "      <td>3</td>\n",
       "      <td>107</td>\n",
       "      <td>118</td>\n",
       "      <td>127</td>\n",
       "      <td>134</td>\n",
       "      <td>139</td>\n",
       "      <td>143</td>\n",
       "      <td>146</td>\n",
       "      <td>150</td>\n",
       "      <td>153</td>\n",
       "      <td>...</td>\n",
       "      <td>207</td>\n",
       "      <td>207</td>\n",
       "      <td>207</td>\n",
       "      <td>207</td>\n",
       "      <td>206</td>\n",
       "      <td>206</td>\n",
       "      <td>206</td>\n",
       "      <td>204</td>\n",
       "      <td>203</td>\n",
       "      <td>202</td>\n",
       "    </tr>\n",
       "    <tr>\n",
       "      <td>1</td>\n",
       "      <td>6</td>\n",
       "      <td>155</td>\n",
       "      <td>157</td>\n",
       "      <td>156</td>\n",
       "      <td>156</td>\n",
       "      <td>156</td>\n",
       "      <td>157</td>\n",
       "      <td>156</td>\n",
       "      <td>158</td>\n",
       "      <td>158</td>\n",
       "      <td>...</td>\n",
       "      <td>69</td>\n",
       "      <td>149</td>\n",
       "      <td>128</td>\n",
       "      <td>87</td>\n",
       "      <td>94</td>\n",
       "      <td>163</td>\n",
       "      <td>175</td>\n",
       "      <td>103</td>\n",
       "      <td>135</td>\n",
       "      <td>149</td>\n",
       "    </tr>\n",
       "    <tr>\n",
       "      <td>2</td>\n",
       "      <td>2</td>\n",
       "      <td>187</td>\n",
       "      <td>188</td>\n",
       "      <td>188</td>\n",
       "      <td>187</td>\n",
       "      <td>187</td>\n",
       "      <td>186</td>\n",
       "      <td>187</td>\n",
       "      <td>188</td>\n",
       "      <td>187</td>\n",
       "      <td>...</td>\n",
       "      <td>202</td>\n",
       "      <td>201</td>\n",
       "      <td>200</td>\n",
       "      <td>199</td>\n",
       "      <td>198</td>\n",
       "      <td>199</td>\n",
       "      <td>198</td>\n",
       "      <td>195</td>\n",
       "      <td>194</td>\n",
       "      <td>195</td>\n",
       "    </tr>\n",
       "    <tr>\n",
       "      <td>3</td>\n",
       "      <td>2</td>\n",
       "      <td>211</td>\n",
       "      <td>211</td>\n",
       "      <td>212</td>\n",
       "      <td>212</td>\n",
       "      <td>211</td>\n",
       "      <td>210</td>\n",
       "      <td>211</td>\n",
       "      <td>210</td>\n",
       "      <td>210</td>\n",
       "      <td>...</td>\n",
       "      <td>235</td>\n",
       "      <td>234</td>\n",
       "      <td>233</td>\n",
       "      <td>231</td>\n",
       "      <td>230</td>\n",
       "      <td>226</td>\n",
       "      <td>225</td>\n",
       "      <td>222</td>\n",
       "      <td>229</td>\n",
       "      <td>163</td>\n",
       "    </tr>\n",
       "    <tr>\n",
       "      <td>4</td>\n",
       "      <td>13</td>\n",
       "      <td>164</td>\n",
       "      <td>167</td>\n",
       "      <td>170</td>\n",
       "      <td>172</td>\n",
       "      <td>176</td>\n",
       "      <td>179</td>\n",
       "      <td>180</td>\n",
       "      <td>184</td>\n",
       "      <td>185</td>\n",
       "      <td>...</td>\n",
       "      <td>92</td>\n",
       "      <td>105</td>\n",
       "      <td>105</td>\n",
       "      <td>108</td>\n",
       "      <td>133</td>\n",
       "      <td>163</td>\n",
       "      <td>157</td>\n",
       "      <td>163</td>\n",
       "      <td>164</td>\n",
       "      <td>179</td>\n",
       "    </tr>\n",
       "  </tbody>\n",
       "</table>\n",
       "<p>5 rows × 785 columns</p>\n",
       "</div>"
      ],
      "text/plain": [
       "   label  pixel1  pixel2  pixel3  pixel4  pixel5  pixel6  pixel7  pixel8  \\\n",
       "0      3     107     118     127     134     139     143     146     150   \n",
       "1      6     155     157     156     156     156     157     156     158   \n",
       "2      2     187     188     188     187     187     186     187     188   \n",
       "3      2     211     211     212     212     211     210     211     210   \n",
       "4     13     164     167     170     172     176     179     180     184   \n",
       "\n",
       "   pixel9  ...  pixel775  pixel776  pixel777  pixel778  pixel779  pixel780  \\\n",
       "0     153  ...       207       207       207       207       206       206   \n",
       "1     158  ...        69       149       128        87        94       163   \n",
       "2     187  ...       202       201       200       199       198       199   \n",
       "3     210  ...       235       234       233       231       230       226   \n",
       "4     185  ...        92       105       105       108       133       163   \n",
       "\n",
       "   pixel781  pixel782  pixel783  pixel784  \n",
       "0       206       204       203       202  \n",
       "1       175       103       135       149  \n",
       "2       198       195       194       195  \n",
       "3       225       222       229       163  \n",
       "4       157       163       164       179  \n",
       "\n",
       "[5 rows x 785 columns]"
      ]
     },
     "execution_count": 4,
     "metadata": {},
     "output_type": "execute_result"
    }
   ],
   "source": [
    "train.head()"
   ]
  },
  {
   "cell_type": "code",
   "execution_count": 5,
   "metadata": {},
   "outputs": [
    {
     "data": {
      "text/plain": [
       "<AxesSubplot:ylabel='count'>"
      ]
     },
     "execution_count": 5,
     "metadata": {},
     "output_type": "execute_result"
    },
    {
     "data": {
      "image/png": "[encoded data removed]",
      "text/plain": [
       "<Figure size 1296x576 with 1 Axes>"
      ]
     },
     "metadata": {
      "needs_background": "light"
     },
     "output_type": "display_data"
    }
   ],
   "source": [
    "labels = train['label'].values\n",
    "plt.figure(figsize = (18,8))\n",
    "sns.countplot(x =labels)"
   ]
  },
  {
   "cell_type": "code",
   "execution_count": 6,
   "metadata": {},
   "outputs": [
    {
     "name": "stderr",
     "output_type": "stream",
     "text": [
      "Using TensorFlow backend.\n"
     ]
    },
    {
     "data": {
      "image/png": "[encoded data removed]",
      "text/plain": [
       "<Figure size 1440x360 with 10 Axes>"
      ]
     },
     "metadata": {},
     "output_type": "display_data"
    }
   ],
   "source": [
    "from keras.utils import to_categorical \n",
    "\n",
    "count=0\n",
    "data=train.values[0:,1:]\n",
    "labels = train.values[0:,0]\n",
    "labels = to_categorical(labels)\n",
    "fig = plt.figure(figsize=(20, 5))\n",
    "for i in range(10):\n",
    "    ax = fig.add_subplot(2, 5, i+1, xticks=[], yticks=[])\n",
    "    count+=i\n",
    "    sample = data[count]\n",
    "    ax.imshow(sample.reshape((28,28)))\n",
    "plt.show()"
   ]
  },
  {
   "cell_type": "code",
   "execution_count": 7,
   "metadata": {},
   "outputs": [],
   "source": [
    "x_train = train.iloc[0:27455, 1:785].values\n",
    "y_train = train.iloc[0:27455, 0].values\n",
    "\n",
    "x_test = validation_set.iloc[0:7172, 1:785].values\n",
    "y_test = validation_set.iloc[0:7172,0].values\n",
    "\n",
    "label_enc = LabelEncoder()\n",
    "y_train = label_enc.fit_transform(y_train)\n",
    "y_test = label_enc.fit_transform(y_test)"
   ]
  },
  {
   "cell_type": "markdown",
   "metadata": {},
   "source": [
    "# KNN"
   ]
  },
  {
   "cell_type": "code",
   "execution_count": 8,
   "metadata": {},
   "outputs": [
    {
     "name": "stderr",
     "output_type": "stream",
     "text": [
      "D:\\TheAnaconda\\lib\\site-packages\\sklearn\\linear_model\\least_angle.py:30: DeprecationWarning: `np.float` is a deprecated alias for the builtin `float`. To silence this warning, use `float` by itself. Doing this will not modify any behavior and is safe. If you specifically wanted the numpy scalar type, use `np.float64` here.\n",
      "Deprecated in NumPy 1.20; for more details and guidance: https://numpy.org/devdocs/release/1.20.0-notes.html#deprecations\n",
      "  method='lar', copy_X=True, eps=np.finfo(np.float).eps,\n",
      "D:\\TheAnaconda\\lib\\site-packages\\sklearn\\linear_model\\least_angle.py:167: DeprecationWarning: `np.float` is a deprecated alias for the builtin `float`. To silence this warning, use `float` by itself. Doing this will not modify any behavior and is safe. If you specifically wanted the numpy scalar type, use `np.float64` here.\n",
      "Deprecated in NumPy 1.20; for more details and guidance: https://numpy.org/devdocs/release/1.20.0-notes.html#deprecations\n",
      "  method='lar', copy_X=True, eps=np.finfo(np.float).eps,\n",
      "D:\\TheAnaconda\\lib\\site-packages\\sklearn\\linear_model\\least_angle.py:284: DeprecationWarning: `np.float` is a deprecated alias for the builtin `float`. To silence this warning, use `float` by itself. Doing this will not modify any behavior and is safe. If you specifically wanted the numpy scalar type, use `np.float64` here.\n",
      "Deprecated in NumPy 1.20; for more details and guidance: https://numpy.org/devdocs/release/1.20.0-notes.html#deprecations\n",
      "  eps=np.finfo(np.float).eps, copy_Gram=True, verbose=0,\n",
      "D:\\TheAnaconda\\lib\\site-packages\\sklearn\\linear_model\\least_angle.py:862: DeprecationWarning: `np.float` is a deprecated alias for the builtin `float`. To silence this warning, use `float` by itself. Doing this will not modify any behavior and is safe. If you specifically wanted the numpy scalar type, use `np.float64` here.\n",
      "Deprecated in NumPy 1.20; for more details and guidance: https://numpy.org/devdocs/release/1.20.0-notes.html#deprecations\n",
      "  eps=np.finfo(np.float).eps, copy_X=True, fit_path=True,\n",
      "D:\\TheAnaconda\\lib\\site-packages\\sklearn\\linear_model\\least_angle.py:1101: DeprecationWarning: `np.float` is a deprecated alias for the builtin `float`. To silence this warning, use `float` by itself. Doing this will not modify any behavior and is safe. If you specifically wanted the numpy scalar type, use `np.float64` here.\n",
      "Deprecated in NumPy 1.20; for more details and guidance: https://numpy.org/devdocs/release/1.20.0-notes.html#deprecations\n",
      "  eps=np.finfo(np.float).eps, copy_X=True, fit_path=True,\n",
      "D:\\TheAnaconda\\lib\\site-packages\\sklearn\\linear_model\\least_angle.py:1127: DeprecationWarning: `np.float` is a deprecated alias for the builtin `float`. To silence this warning, use `float` by itself. Doing this will not modify any behavior and is safe. If you specifically wanted the numpy scalar type, use `np.float64` here.\n",
      "Deprecated in NumPy 1.20; for more details and guidance: https://numpy.org/devdocs/release/1.20.0-notes.html#deprecations\n",
      "  eps=np.finfo(np.float).eps, positive=False):\n",
      "D:\\TheAnaconda\\lib\\site-packages\\sklearn\\linear_model\\least_angle.py:1362: DeprecationWarning: `np.float` is a deprecated alias for the builtin `float`. To silence this warning, use `float` by itself. Doing this will not modify any behavior and is safe. If you specifically wanted the numpy scalar type, use `np.float64` here.\n",
      "Deprecated in NumPy 1.20; for more details and guidance: https://numpy.org/devdocs/release/1.20.0-notes.html#deprecations\n",
      "  max_n_alphas=1000, n_jobs=None, eps=np.finfo(np.float).eps,\n",
      "D:\\TheAnaconda\\lib\\site-packages\\sklearn\\linear_model\\least_angle.py:1602: DeprecationWarning: `np.float` is a deprecated alias for the builtin `float`. To silence this warning, use `float` by itself. Doing this will not modify any behavior and is safe. If you specifically wanted the numpy scalar type, use `np.float64` here.\n",
      "Deprecated in NumPy 1.20; for more details and guidance: https://numpy.org/devdocs/release/1.20.0-notes.html#deprecations\n",
      "  max_n_alphas=1000, n_jobs=None, eps=np.finfo(np.float).eps,\n",
      "D:\\TheAnaconda\\lib\\site-packages\\sklearn\\linear_model\\least_angle.py:1738: DeprecationWarning: `np.float` is a deprecated alias for the builtin `float`. To silence this warning, use `float` by itself. Doing this will not modify any behavior and is safe. If you specifically wanted the numpy scalar type, use `np.float64` here.\n",
      "Deprecated in NumPy 1.20; for more details and guidance: https://numpy.org/devdocs/release/1.20.0-notes.html#deprecations\n",
      "  eps=np.finfo(np.float).eps, copy_X=True, positive=False):\n",
      "D:\\TheAnaconda\\lib\\site-packages\\sklearn\\decomposition\\online_lda.py:29: DeprecationWarning: `np.float` is a deprecated alias for the builtin `float`. To silence this warning, use `float` by itself. Doing this will not modify any behavior and is safe. If you specifically wanted the numpy scalar type, use `np.float64` here.\n",
      "Deprecated in NumPy 1.20; for more details and guidance: https://numpy.org/devdocs/release/1.20.0-notes.html#deprecations\n",
      "  EPS = np.finfo(np.float).eps\n",
      "D:\\TheAnaconda\\lib\\site-packages\\sklearn\\neighbors\\base.py:908: DeprecationWarning: `np.int` is a deprecated alias for the builtin `int`. To silence this warning, use `int` by itself. Doing this will not modify any behavior and is safe. When replacing `np.int`, you may wish to use e.g. `np.int64` or `np.int32` to specify the precision. If you wish to review your current use, check the release note link for additional information.\n",
      "Deprecated in NumPy 1.20; for more details and guidance: https://numpy.org/devdocs/release/1.20.0-notes.html#deprecations\n",
      "  self._y = np.empty(y.shape, dtype=np.int)\n"
     ]
    },
    {
     "name": "stdout",
     "output_type": "stream",
     "text": [
      "Confusion Matrix:\n",
      "[[322   0   0   0   5   0   0   0   0   0   0   0   0   0   0   0   0   0\n",
      "    0   0   0   0   0   4]\n",
      " [  1 296   0  43   0   0   0   4   0  49   0   0   0   0   2   0  21   0\n",
      "    0  10   5   1   0   0]\n",
      " [  0   0 303   0   0   0   1   0   0   0   2   0   0   4   0   0   0   0\n",
      "    0   0   0   0   0   0]\n",
      " [  0  13   0 204   0   0   0   0   0   8   0   0   2   0   0   0   7   0\n",
      "    2   6   1   1   1   0]\n",
      " [  7  27   0   0 408   0   0   0   4   0   0   2  21   0   0   0   0  29\n",
      "    0   0   0   0   0   0]\n",
      " [  0  22   3  10   0 148  15   0   0   0   0   0   0   3   0   3   1   0\n",
      "   22  13   5   1   0   1]\n",
      " [  0   0   0  12   0  11 270  20   0   0   0   0   0   0   0   1   0   0\n",
      "   34   0   0   0   0   0]\n",
      " [  0   6   0   0   0   0 113 302   0   0   0   0   0   0   0   0   0   0\n",
      "   13   0   2   0   0   0]\n",
      " [ 33  24   0   2   4   0   0   0 167   0   0   2   4   0   0   0   0  28\n",
      "   23   0   0   0   0   1]\n",
      " [  0   3   0  18   0   0   1   1  14 111   0   0   0   0   0   0  60   4\n",
      "   12  69   1  37   0   0]\n",
      " [  0   0   6   0   0  17   1  22   0   0 135   0   0   0   0   0   0   0\n",
      "   28   0   0   0   0   0]\n",
      " [ 73   9   0   3  21   0   0   0  18   0   0  98  83   0   0   0   0  79\n",
      "    1   0   0   0   0   9]\n",
      " [ 51  27   0   0  47   0   0   0   0   0   0  13  99   0   1   0   2  10\n",
      "   33   8   0   0   0   0]\n",
      " [  0   1  50  15   1   0   2   0   0   0   0   0   7 153   0   0   2   0\n",
      "   11   4   0   0   0   0]\n",
      " [  0   0   0   0   0   0   0   1   3   0   2   0   0   0 336   0   4   0\n",
      "    1   0   0   0   0   0]\n",
      " [ 16   0   0   0   0   0   0   3   0   0   0   0   0   0  13 115   6   7\n",
      "    2   2   0   0   0   0]\n",
      " [  0  43   0   0   0   0   0   0   0   1   0   1   0   0   0   0  22   0\n",
      "   10  52  14   1   0   0]\n",
      " [  6   0   0  13  27   0   0   0  36   0   0  21  30   0   2   0   0 109\n",
      "    1   0   0   0   0   1]\n",
      " [  0   0   0   0   0   0  12   0   0   0   0   0   0   0   0   0   4   0\n",
      "  214   0   0   3  15   0]\n",
      " [  0  53   0  32   0   0   0   0   0  14   0   0   0   0   0   0  38   0\n",
      "    2 102  25   0   0   0]\n",
      " [  0   4   0   3   0   0   0  11   0   7   0   0   0   0   1   0  22   0\n",
      "   12 107 112  67   0   0]\n",
      " [  0   0   0   0   0   0   0   0   0  24   0   0   0   0   0   0  13   0\n",
      "    0  63  24  82   0   0]\n",
      " [  0   0   0  16   0   0   1   1   0   2   0   0   0   0   4   1  23   5\n",
      "   22   0   0  27 165   0]\n",
      " [  0   4   0  19   0   0  17   0  41  13   0   0   7   0   0   0  15  17\n",
      "   44  50  16   2   0  87]]\n",
      "F1 Score:\n",
      "0.6079196876742889\n",
      "Accuracy:\n",
      "0.6079196876742889\n"
     ]
    }
   ],
   "source": [
    "from sklearn.neighbors import KNeighborsClassifier\n",
    "from sklearn.preprocessing import LabelEncoder\n",
    "from sklearn.metrics import confusion_matrix, f1_score, accuracy_score\n",
    "import matplotlib.pyplot as plt\n",
    "\n",
    "KNN = KNeighborsClassifier(n_neighbors=165)\n",
    "classifier = KNN.fit(x_train,y_train)\n",
    "\n",
    "y_pred = classifier.predict(x_test)\n",
    "acc = accuracy_score(y_test,y_pred)\n",
    "f1 = f1_score(y_test,y_pred,average='micro')\n",
    "cm = confusion_matrix(y_test, y_pred)\n",
    "print(\"Confusion Matrix:\")\n",
    "print(cm)\n",
    "print(\"F1 Score:\")\n",
    "print(f1)\n",
    "print(\"Accuracy:\")\n",
    "print(acc)"
   ]
  },
  {
   "cell_type": "markdown",
   "metadata": {},
   "source": [
    "# Logistic Regression"
   ]
  },
  {
   "cell_type": "code",
   "execution_count": 9,
   "metadata": {},
   "outputs": [
    {
     "name": "stderr",
     "output_type": "stream",
     "text": [
      "D:\\TheAnaconda\\lib\\site-packages\\sklearn\\linear_model\\logistic.py:432: FutureWarning: Default solver will be changed to 'lbfgs' in 0.22. Specify a solver to silence this warning.\n",
      "  FutureWarning)\n",
      "D:\\TheAnaconda\\lib\\site-packages\\sklearn\\linear_model\\logistic.py:469: FutureWarning: Default multi_class will be changed to 'auto' in 0.22. Specify the multi_class option to silence this warning.\n",
      "  \"this warning.\", FutureWarning)\n"
     ]
    },
    {
     "name": "stdout",
     "output_type": "stream",
     "text": [
      "Accuracy of logistic regression: 61.38\n",
      "              precision    recall  f1-score   support\n",
      "\n",
      "           0       0.82      0.88      0.85       331\n",
      "           1       1.00      0.81      0.89       432\n",
      "           2       0.75      0.86      0.81       310\n",
      "           3       0.74      0.92      0.82       245\n",
      "           4       0.80      0.84      0.82       498\n",
      "           5       0.53      0.81      0.64       247\n",
      "           6       0.66      0.71      0.69       348\n",
      "           7       0.81      0.67      0.73       436\n",
      "           8       0.55      0.57      0.56       288\n",
      "           9       0.62      0.31      0.41       331\n",
      "          10       0.80      0.81      0.81       209\n",
      "          11       0.64      0.49      0.55       394\n",
      "          12       0.58      0.41      0.48       291\n",
      "          13       0.98      0.46      0.62       246\n",
      "          14       0.70      0.54      0.61       347\n",
      "          15       0.67      0.74      0.71       164\n",
      "          16       0.20      0.43      0.27       144\n",
      "          17       0.33      0.58      0.42       246\n",
      "          18       0.35      0.44      0.39       248\n",
      "          19       0.42      0.54      0.47       266\n",
      "          20       0.43      0.37      0.40       346\n",
      "          21       0.26      0.44      0.33       206\n",
      "          22       0.78      0.38      0.51       267\n",
      "          23       0.62      0.51      0.56       332\n",
      "\n",
      "    accuracy                           0.61      7172\n",
      "   macro avg       0.63      0.60      0.60      7172\n",
      "weighted avg       0.66      0.61      0.62      7172\n",
      "\n"
     ]
    }
   ],
   "source": [
    "from sklearn.linear_model import LogisticRegression\n",
    "from sklearn.metrics import classification_report\n",
    "\n",
    "\n",
    "model = LogisticRegression()\n",
    "model.fit(x_train, y_train)\n",
    "Logisticprediction=model.predict(x_test)\n",
    "\n",
    "print('Accuracy of logistic regression: {0:.2f}'.format(accuracy_score(Logisticprediction,y_test) * 100))\n",
    "print(classification_report(y_test, Logisticprediction))"
   ]
  },
  {
   "cell_type": "markdown",
   "metadata": {},
   "source": [
    "# Random Forest"
   ]
  },
  {
   "cell_type": "code",
   "execution_count": 10,
   "metadata": {},
   "outputs": [
    {
     "name": "stderr",
     "output_type": "stream",
     "text": [
      "D:\\TheAnaconda\\lib\\site-packages\\sklearn\\ensemble\\gradient_boosting.py:32: DeprecationWarning: `np.bool` is a deprecated alias for the builtin `bool`. To silence this warning, use `bool` by itself. Doing this will not modify any behavior and is safe. If you specifically wanted the numpy scalar type, use `np.bool_` here.\n",
      "Deprecated in NumPy 1.20; for more details and guidance: https://numpy.org/devdocs/release/1.20.0-notes.html#deprecations\n",
      "  from ._gradient_boosting import predict_stages\n",
      "D:\\TheAnaconda\\lib\\site-packages\\sklearn\\ensemble\\gradient_boosting.py:32: DeprecationWarning: `np.bool` is a deprecated alias for the builtin `bool`. To silence this warning, use `bool` by itself. Doing this will not modify any behavior and is safe. If you specifically wanted the numpy scalar type, use `np.bool_` here.\n",
      "Deprecated in NumPy 1.20; for more details and guidance: https://numpy.org/devdocs/release/1.20.0-notes.html#deprecations\n",
      "  from ._gradient_boosting import predict_stages\n",
      "D:\\TheAnaconda\\lib\\site-packages\\sklearn\\ensemble\\forest.py:245: FutureWarning: The default value of n_estimators will change from 10 in version 0.20 to 100 in 0.22.\n",
      "  \"10 in version 0.20 to 100 in 0.22.\", FutureWarning)\n",
      "D:\\TheAnaconda\\lib\\site-packages\\sklearn\\ensemble\\forest.py:489: DeprecationWarning: `np.int` is a deprecated alias for the builtin `int`. To silence this warning, use `int` by itself. Doing this will not modify any behavior and is safe. When replacing `np.int`, you may wish to use e.g. `np.int64` or `np.int32` to specify the precision. If you wish to review your current use, check the release note link for additional information.\n",
      "Deprecated in NumPy 1.20; for more details and guidance: https://numpy.org/devdocs/release/1.20.0-notes.html#deprecations\n",
      "  y_store_unique_indices = np.zeros(y.shape, dtype=np.int)\n",
      "D:\\TheAnaconda\\lib\\site-packages\\sklearn\\tree\\tree.py:163: DeprecationWarning: `np.int` is a deprecated alias for the builtin `int`. To silence this warning, use `int` by itself. Doing this will not modify any behavior and is safe. When replacing `np.int`, you may wish to use e.g. `np.int64` or `np.int32` to specify the precision. If you wish to review your current use, check the release note link for additional information.\n",
      "Deprecated in NumPy 1.20; for more details and guidance: https://numpy.org/devdocs/release/1.20.0-notes.html#deprecations\n",
      "  y_encoded = np.zeros(y.shape, dtype=np.int)\n",
      "D:\\TheAnaconda\\lib\\site-packages\\sklearn\\tree\\tree.py:163: DeprecationWarning: `np.int` is a deprecated alias for the builtin `int`. To silence this warning, use `int` by itself. Doing this will not modify any behavior and is safe. When replacing `np.int`, you may wish to use e.g. `np.int64` or `np.int32` to specify the precision. If you wish to review your current use, check the release note link for additional information.\n",
      "Deprecated in NumPy 1.20; for more details and guidance: https://numpy.org/devdocs/release/1.20.0-notes.html#deprecations\n",
      "  y_encoded = np.zeros(y.shape, dtype=np.int)\n",
      "D:\\TheAnaconda\\lib\\site-packages\\sklearn\\tree\\tree.py:163: DeprecationWarning: `np.int` is a deprecated alias for the builtin `int`. To silence this warning, use `int` by itself. Doing this will not modify any behavior and is safe. When replacing `np.int`, you may wish to use e.g. `np.int64` or `np.int32` to specify the precision. If you wish to review your current use, check the release note link for additional information.\n",
      "Deprecated in NumPy 1.20; for more details and guidance: https://numpy.org/devdocs/release/1.20.0-notes.html#deprecations\n",
      "  y_encoded = np.zeros(y.shape, dtype=np.int)\n",
      "D:\\TheAnaconda\\lib\\site-packages\\sklearn\\tree\\tree.py:163: DeprecationWarning: `np.int` is a deprecated alias for the builtin `int`. To silence this warning, use `int` by itself. Doing this will not modify any behavior and is safe. When replacing `np.int`, you may wish to use e.g. `np.int64` or `np.int32` to specify the precision. If you wish to review your current use, check the release note link for additional information.\n",
      "Deprecated in NumPy 1.20; for more details and guidance: https://numpy.org/devdocs/release/1.20.0-notes.html#deprecations\n",
      "  y_encoded = np.zeros(y.shape, dtype=np.int)\n",
      "D:\\TheAnaconda\\lib\\site-packages\\sklearn\\tree\\tree.py:163: DeprecationWarning: `np.int` is a deprecated alias for the builtin `int`. To silence this warning, use `int` by itself. Doing this will not modify any behavior and is safe. When replacing `np.int`, you may wish to use e.g. `np.int64` or `np.int32` to specify the precision. If you wish to review your current use, check the release note link for additional information.\n",
      "Deprecated in NumPy 1.20; for more details and guidance: https://numpy.org/devdocs/release/1.20.0-notes.html#deprecations\n",
      "  y_encoded = np.zeros(y.shape, dtype=np.int)\n",
      "D:\\TheAnaconda\\lib\\site-packages\\sklearn\\tree\\tree.py:163: DeprecationWarning: `np.int` is a deprecated alias for the builtin `int`. To silence this warning, use `int` by itself. Doing this will not modify any behavior and is safe. When replacing `np.int`, you may wish to use e.g. `np.int64` or `np.int32` to specify the precision. If you wish to review your current use, check the release note link for additional information.\n",
      "Deprecated in NumPy 1.20; for more details and guidance: https://numpy.org/devdocs/release/1.20.0-notes.html#deprecations\n",
      "  y_encoded = np.zeros(y.shape, dtype=np.int)\n",
      "D:\\TheAnaconda\\lib\\site-packages\\sklearn\\tree\\tree.py:163: DeprecationWarning: `np.int` is a deprecated alias for the builtin `int`. To silence this warning, use `int` by itself. Doing this will not modify any behavior and is safe. When replacing `np.int`, you may wish to use e.g. `np.int64` or `np.int32` to specify the precision. If you wish to review your current use, check the release note link for additional information.\n",
      "Deprecated in NumPy 1.20; for more details and guidance: https://numpy.org/devdocs/release/1.20.0-notes.html#deprecations\n",
      "  y_encoded = np.zeros(y.shape, dtype=np.int)\n",
      "D:\\TheAnaconda\\lib\\site-packages\\sklearn\\tree\\tree.py:163: DeprecationWarning: `np.int` is a deprecated alias for the builtin `int`. To silence this warning, use `int` by itself. Doing this will not modify any behavior and is safe. When replacing `np.int`, you may wish to use e.g. `np.int64` or `np.int32` to specify the precision. If you wish to review your current use, check the release note link for additional information.\n",
      "Deprecated in NumPy 1.20; for more details and guidance: https://numpy.org/devdocs/release/1.20.0-notes.html#deprecations\n",
      "  y_encoded = np.zeros(y.shape, dtype=np.int)\n",
      "D:\\TheAnaconda\\lib\\site-packages\\sklearn\\tree\\tree.py:163: DeprecationWarning: `np.int` is a deprecated alias for the builtin `int`. To silence this warning, use `int` by itself. Doing this will not modify any behavior and is safe. When replacing `np.int`, you may wish to use e.g. `np.int64` or `np.int32` to specify the precision. If you wish to review your current use, check the release note link for additional information.\n",
      "Deprecated in NumPy 1.20; for more details and guidance: https://numpy.org/devdocs/release/1.20.0-notes.html#deprecations\n",
      "  y_encoded = np.zeros(y.shape, dtype=np.int)\n",
      "D:\\TheAnaconda\\lib\\site-packages\\sklearn\\tree\\tree.py:163: DeprecationWarning: `np.int` is a deprecated alias for the builtin `int`. To silence this warning, use `int` by itself. Doing this will not modify any behavior and is safe. When replacing `np.int`, you may wish to use e.g. `np.int64` or `np.int32` to specify the precision. If you wish to review your current use, check the release note link for additional information.\n",
      "Deprecated in NumPy 1.20; for more details and guidance: https://numpy.org/devdocs/release/1.20.0-notes.html#deprecations\n",
      "  y_encoded = np.zeros(y.shape, dtype=np.int)\n"
     ]
    },
    {
     "name": "stdout",
     "output_type": "stream",
     "text": [
      "Accuracy of random forest: 66.90\n",
      "              precision    recall  f1-score   support\n",
      "\n",
      "           0       0.78      0.98      0.87       331\n",
      "           1       0.75      0.82      0.78       432\n",
      "           2       0.83      0.93      0.88       310\n",
      "           3       0.52      0.83      0.64       245\n",
      "           4       0.75      0.88      0.81       498\n",
      "           5       0.67      0.89      0.76       247\n",
      "           6       0.66      0.78      0.72       348\n",
      "           7       0.87      0.81      0.84       436\n",
      "           8       0.47      0.47      0.47       288\n",
      "           9       0.56      0.47      0.52       331\n",
      "          10       0.73      0.86      0.79       209\n",
      "          11       0.63      0.55      0.59       394\n",
      "          12       0.55      0.40      0.46       291\n",
      "          13       0.85      0.66      0.74       246\n",
      "          14       0.92      0.93      0.92       347\n",
      "          15       0.87      0.96      0.91       164\n",
      "          16       0.21      0.44      0.29       144\n",
      "          17       0.49      0.39      0.43       246\n",
      "          18       0.58      0.60      0.59       248\n",
      "          19       0.47      0.34      0.39       266\n",
      "          20       0.57      0.32      0.41       346\n",
      "          21       0.38      0.41      0.40       206\n",
      "          22       0.81      0.53      0.64       267\n",
      "          23       0.86      0.49      0.63       332\n",
      "\n",
      "    accuracy                           0.67      7172\n",
      "   macro avg       0.66      0.66      0.64      7172\n",
      "weighted avg       0.68      0.67      0.66      7172\n",
      "\n"
     ]
    },
    {
     "name": "stderr",
     "output_type": "stream",
     "text": [
      "D:\\TheAnaconda\\lib\\site-packages\\sklearn\\ensemble\\base.py:158: DeprecationWarning: `np.int` is a deprecated alias for the builtin `int`. To silence this warning, use `int` by itself. Doing this will not modify any behavior and is safe. When replacing `np.int`, you may wish to use e.g. `np.int64` or `np.int32` to specify the precision. If you wish to review your current use, check the release note link for additional information.\n",
      "Deprecated in NumPy 1.20; for more details and guidance: https://numpy.org/devdocs/release/1.20.0-notes.html#deprecations\n",
      "  dtype=np.int)\n"
     ]
    }
   ],
   "source": [
    "from sklearn.ensemble import RandomForestClassifier\n",
    "\n",
    "random_forest_model = RandomForestClassifier(random_state=42)\n",
    "random_forest_model.fit(x_train, y_train)\n",
    "rfprediction=random_forest_model.predict(x_test)\n",
    "\n",
    "print('Accuracy of random forest: {0:.2f}'.format(accuracy_score(y_test,rfprediction) * 100))\n",
    "print(classification_report(y_test, rfprediction))"
   ]
  },
  {
   "cell_type": "markdown",
   "metadata": {},
   "source": [
    "# MLP"
   ]
  },
  {
   "cell_type": "code",
   "execution_count": 11,
   "metadata": {},
   "outputs": [
    {
     "name": "stdout",
     "output_type": "stream",
     "text": [
      "Accuracy : 80.93%\n",
      "              precision    recall  f1-score   support\n",
      "\n",
      "           0       0.94      0.99      0.96       331\n",
      "           1       0.95      0.90      0.92       432\n",
      "           2       0.99      0.93      0.96       310\n",
      "           3       0.79      1.00      0.88       245\n",
      "           4       0.92      0.93      0.93       498\n",
      "           5       0.72      0.91      0.80       247\n",
      "           6       0.88      0.94      0.91       348\n",
      "           7       0.92      0.91      0.91       436\n",
      "           8       0.83      0.80      0.81       288\n",
      "           9       0.70      0.54      0.61       331\n",
      "          10       0.85      0.93      0.89       209\n",
      "          11       0.86      0.77      0.81       394\n",
      "          12       0.70      0.64      0.67       291\n",
      "          13       0.81      0.64      0.71       246\n",
      "          14       0.99      1.00      1.00       347\n",
      "          15       0.83      0.87      0.85       164\n",
      "          16       0.29      0.43      0.34       144\n",
      "          17       0.57      0.74      0.64       246\n",
      "          18       0.75      0.75      0.75       248\n",
      "          19       0.49      0.59      0.54       266\n",
      "          20       0.85      0.69      0.76       346\n",
      "          21       0.68      0.71      0.69       206\n",
      "          22       0.83      0.76      0.80       267\n",
      "          23       0.88      0.70      0.78       332\n",
      "\n",
      "    accuracy                           0.81      7172\n",
      "   macro avg       0.79      0.79      0.79      7172\n",
      "weighted avg       0.82      0.81      0.81      7172\n",
      "\n"
     ]
    }
   ],
   "source": [
    "from sklearn.neural_network import MLPRegressor, MLPClassifier\n",
    "from sklearn.preprocessing import StandardScaler\n",
    "\n",
    "scaler = StandardScaler().fit(x_train, y_train)\n",
    "xRTrain = scaler.transform(x_train)\n",
    "xRTest = scaler.transform(x_test)\n",
    "mlpc = MLPClassifier().fit(xRTrain,y_train)\n",
    "predict = mlpc.predict(xRTest)\n",
    "\n",
    "print('Accuracy : {:.2f}%'.format(accuracy_score(y_test,predict) * 100))\n",
    "print(classification_report(y_test, predict))"
   ]
  },
  {
   "cell_type": "markdown",
   "metadata": {},
   "source": [
    "# SVM"
   ]
  },
  {
   "cell_type": "code",
   "execution_count": 12,
   "metadata": {},
   "outputs": [
    {
     "name": "stdout",
     "output_type": "stream",
     "text": [
      "Accuracy : 78.17%\n",
      "              precision    recall  f1-score   support\n",
      "\n",
      "           0       0.84      1.00      0.92       331\n",
      "           1       1.00      0.95      0.97       432\n",
      "           2       0.78      0.98      0.87       310\n",
      "           3       0.89      1.00      0.94       245\n",
      "           4       0.92      1.00      0.96       498\n",
      "           5       0.68      0.83      0.75       247\n",
      "           6       0.84      0.86      0.85       348\n",
      "           7       0.95      0.88      0.91       436\n",
      "           8       0.73      0.74      0.74       288\n",
      "           9       0.62      0.40      0.48       331\n",
      "          10       0.58      0.60      0.59       209\n",
      "          11       0.87      0.69      0.77       394\n",
      "          12       0.88      0.63      0.74       291\n",
      "          13       0.88      0.65      0.75       246\n",
      "          14       0.90      1.00      0.95       347\n",
      "          15       0.76      0.95      0.85       164\n",
      "          16       0.30      0.67      0.41       144\n",
      "          17       0.61      0.66      0.63       246\n",
      "          18       0.88      0.69      0.77       248\n",
      "          19       0.56      0.64      0.60       266\n",
      "          20       0.91      0.61      0.73       346\n",
      "          21       0.71      0.77      0.74       206\n",
      "          22       0.55      0.53      0.54       267\n",
      "          23       0.82      0.70      0.75       332\n",
      "\n",
      "    accuracy                           0.78      7172\n",
      "   macro avg       0.77      0.77      0.76      7172\n",
      "weighted avg       0.80      0.78      0.78      7172\n",
      "\n"
     ]
    }
   ],
   "source": [
    "from sklearn import svm\n",
    "\n",
    "clf = svm.SVC(kernel='linear')\n",
    "clf.fit(x_train, y_train)\n",
    "predict = clf.predict(x_test)\n",
    "print('Accuracy : {:.2f}%'.format(accuracy_score(y_test,predict) * 100))\n",
    "print(classification_report(y_test, predict))"
   ]
  },
  {
   "cell_type": "markdown",
   "metadata": {},
   "source": [
    "# CNN"
   ]
  },
  {
   "cell_type": "code",
   "execution_count": 23,
   "metadata": {},
   "outputs": [
    {
     "data": {
      "text/plain": [
       "(27455, 785)"
      ]
     },
     "execution_count": 23,
     "metadata": {},
     "output_type": "execute_result"
    }
   ],
   "source": [
    "import keras\n",
    "\n",
    "train.shape"
   ]
  },
  {
   "cell_type": "code",
   "execution_count": 26,
   "metadata": {},
   "outputs": [
    {
     "data": {
      "text/plain": [
       "array([[0, 0, 0, ..., 0, 0, 0],\n",
       "       [0, 0, 0, ..., 0, 0, 0],\n",
       "       [0, 0, 1, ..., 0, 0, 0],\n",
       "       ...,\n",
       "       [0, 0, 0, ..., 0, 0, 0],\n",
       "       [0, 0, 0, ..., 0, 0, 0],\n",
       "       [0, 0, 0, ..., 0, 1, 0]])"
      ]
     },
     "execution_count": 26,
     "metadata": {},
     "output_type": "execute_result"
    }
   ],
   "source": [
    "from sklearn.preprocessing import LabelBinarizer\n",
    "label_binrizer = LabelBinarizer()\n",
    "labels = label_binrizer.fit_transform(labels)\n",
    "labels"
   ]
  },
  {
   "cell_type": "code",
   "execution_count": 27,
   "metadata": {},
   "outputs": [],
   "source": [
    "train.drop('label',axis=1,inplace = True)"
   ]
  },
  {
   "cell_type": "code",
   "execution_count": 28,
   "metadata": {},
   "outputs": [
    {
     "name": "stdout",
     "output_type": "stream",
     "text": [
      "int64 0 255 (27455, 784)\n"
     ]
    }
   ],
   "source": [
    "images = train.values\n",
    "print(images.dtype, np.round(images.min(), 4), np.round(images.max(), 4), images.shape)"
   ]
  },
  {
   "cell_type": "code",
   "execution_count": 29,
   "metadata": {},
   "outputs": [
    {
     "data": {
      "text/plain": [
       "Text(0.5, 0.98, 'Grayscale images')"
      ]
     },
     "execution_count": 29,
     "metadata": {},
     "output_type": "execute_result"
    },
    {
     "data": {
      "image/png": "[encoded data removed]",
      "text/plain": [
       "<Figure size 1080x288 with 5 Axes>"
      ]
     },
     "metadata": {},
     "output_type": "display_data"
    }
   ],
   "source": [
    "plt.style.use('grayscale')\n",
    "fig, axs = plt.subplots(1, 5, figsize=(15, 4), sharey=True)\n",
    "for i in range(5): \n",
    "        axs[i].imshow(images[i].reshape(28,28))\n",
    "fig.suptitle('Grayscale images')"
   ]
  },
  {
   "cell_type": "code",
   "execution_count": 30,
   "metadata": {},
   "outputs": [],
   "source": [
    "images = images/255"
   ]
  },
  {
   "cell_type": "code",
   "execution_count": 31,
   "metadata": {},
   "outputs": [
    {
     "name": "stderr",
     "output_type": "stream",
     "text": [
      "D:\\TheAnaconda\\lib\\site-packages\\sklearn\\utils\\__init__.py:806: DeprecationWarning: `np.int` is a deprecated alias for the builtin `int`. To silence this warning, use `int` by itself. Doing this will not modify any behavior and is safe. When replacing `np.int`, you may wish to use e.g. `np.int64` or `np.int32` to specify the precision. If you wish to review your current use, check the release note link for additional information.\n",
      "Deprecated in NumPy 1.20; for more details and guidance: https://numpy.org/devdocs/release/1.20.0-notes.html#deprecations\n",
      "  return floored.astype(np.int)\n",
      "D:\\TheAnaconda\\lib\\site-packages\\sklearn\\utils\\__init__.py:806: DeprecationWarning: `np.int` is a deprecated alias for the builtin `int`. To silence this warning, use `int` by itself. Doing this will not modify any behavior and is safe. When replacing `np.int`, you may wish to use e.g. `np.int64` or `np.int32` to specify the precision. If you wish to review your current use, check the release note link for additional information.\n",
      "Deprecated in NumPy 1.20; for more details and guidance: https://numpy.org/devdocs/release/1.20.0-notes.html#deprecations\n",
      "  return floored.astype(np.int)\n",
      "D:\\TheAnaconda\\lib\\site-packages\\sklearn\\utils\\__init__.py:806: DeprecationWarning: `np.int` is a deprecated alias for the builtin `int`. To silence this warning, use `int` by itself. Doing this will not modify any behavior and is safe. When replacing `np.int`, you may wish to use e.g. `np.int64` or `np.int32` to specify the precision. If you wish to review your current use, check the release note link for additional information.\n",
      "Deprecated in NumPy 1.20; for more details and guidance: https://numpy.org/devdocs/release/1.20.0-notes.html#deprecations\n",
      "  return floored.astype(np.int)\n",
      "D:\\TheAnaconda\\lib\\site-packages\\sklearn\\utils\\__init__.py:806: DeprecationWarning: `np.int` is a deprecated alias for the builtin `int`. To silence this warning, use `int` by itself. Doing this will not modify any behavior and is safe. When replacing `np.int`, you may wish to use e.g. `np.int64` or `np.int32` to specify the precision. If you wish to review your current use, check the release note link for additional information.\n",
      "Deprecated in NumPy 1.20; for more details and guidance: https://numpy.org/devdocs/release/1.20.0-notes.html#deprecations\n",
      "  return floored.astype(np.int)\n"
     ]
    }
   ],
   "source": [
    "from sklearn.model_selection import train_test_split\n",
    "\n",
    "x_train, x_val, y_train, y_val = train_test_split(images, labels, test_size = 0.3, stratify = labels, random_state = 1)\n",
    "x_train, x_test, y_train, y_test = train_test_split(images, labels, test_size = 0.3, stratify = labels, random_state = 1)"
   ]
  },
  {
   "cell_type": "code",
   "execution_count": 32,
   "metadata": {},
   "outputs": [
    {
     "name": "stdout",
     "output_type": "stream",
     "text": [
      "19218 train samples\n",
      "8237 test samples\n",
      "8237 val samples\n"
     ]
    }
   ],
   "source": [
    "print(x_train.shape[0], 'train samples')\n",
    "print(x_test.shape[0], 'test samples')\n",
    "print(x_val.shape[0], 'val samples')"
   ]
  },
  {
   "cell_type": "code",
   "execution_count": 33,
   "metadata": {},
   "outputs": [],
   "source": [
    "x_train = x_train.reshape(x_train.shape[0], 28, 28, 1)\n",
    "x_test = x_test.reshape(x_test.shape[0], 28, 28, 1)\n",
    "x_val = x_test.reshape(x_test.shape[0], 28, 28, 1)"
   ]
  },
  {
   "cell_type": "code",
   "execution_count": 34,
   "metadata": {},
   "outputs": [
    {
     "name": "stdout",
     "output_type": "stream",
     "text": [
      "Model: \"sequential_1\"\n",
      "_________________________________________________________________\n",
      "Layer (type)                 Output Shape              Param #   \n",
      "=================================================================\n",
      "conv2d_1 (Conv2D)            (None, 28, 28, 16)        272       \n",
      "_________________________________________________________________\n",
      "dropout_1 (Dropout)          (None, 28, 28, 16)        0         \n",
      "_________________________________________________________________\n",
      "max_pooling2d_1 (MaxPooling2 (None, 14, 14, 16)        0         \n",
      "_________________________________________________________________\n",
      "conv2d_2 (Conv2D)            (None, 14, 14, 32)        8224      \n",
      "_________________________________________________________________\n",
      "dropout_2 (Dropout)          (None, 14, 14, 32)        0         \n",
      "_________________________________________________________________\n",
      "max_pooling2d_2 (MaxPooling2 (None, 7, 7, 32)          0         \n",
      "_________________________________________________________________\n",
      "conv2d_3 (Conv2D)            (None, 7, 7, 64)          32832     \n",
      "_________________________________________________________________\n",
      "dropout_3 (Dropout)          (None, 7, 7, 64)          0         \n",
      "_________________________________________________________________\n",
      "max_pooling2d_3 (MaxPooling2 (None, 3, 3, 64)          0         \n",
      "_________________________________________________________________\n",
      "flatten_1 (Flatten)          (None, 576)               0         \n",
      "_________________________________________________________________\n",
      "dense_1 (Dense)              (None, 500)               288500    \n",
      "_________________________________________________________________\n",
      "dropout_4 (Dropout)          (None, 500)               0         \n",
      "_________________________________________________________________\n",
      "dense_2 (Dense)              (None, 24)                12024     \n",
      "=================================================================\n",
      "Total params: 341,852\n",
      "Trainable params: 341,852\n",
      "Non-trainable params: 0\n",
      "_________________________________________________________________\n"
     ]
    }
   ],
   "source": [
    "from keras.models import Sequential\n",
    "from keras.layers import Conv2D, MaxPooling2D, Flatten, Dense, Dropout\n",
    "\n",
    "model = Sequential()\n",
    "\n",
    "model.add(Conv2D(16, kernel_size=(4,4), activation = 'relu', input_shape=(28, 28 ,1), padding='same' ))\n",
    "model.add(Dropout(0.2))\n",
    "model.add(MaxPooling2D(pool_size = (2, 2)))\n",
    "\n",
    "model.add(Conv2D(32, kernel_size=(4,4), activation = 'relu', input_shape=(28, 28 ,1), padding='same' ))\n",
    "model.add(Dropout(0.2))\n",
    "model.add(MaxPooling2D(pool_size = (2, 2)))\n",
    "\n",
    "model.add(Conv2D(64, kernel_size=(4,4), activation = 'relu', input_shape=(28, 28 ,1), padding='same' ))\n",
    "model.add(Dropout(0.2))\n",
    "model.add(MaxPooling2D(pool_size = (2, 2)))\n",
    "\n",
    "model.add(Flatten())\n",
    "model.add(Dense(500, activation='relu'))\n",
    "model.add(Dropout(0.2))\n",
    "model.add(Dense(24, activation='softmax'))\n",
    "model.summary()"
   ]
  },
  {
   "cell_type": "code",
   "execution_count": 35,
   "metadata": {},
   "outputs": [],
   "source": [
    "model.compile(loss='categorical_crossentropy', optimizer='rmsprop', \n",
    "                  metrics=['accuracy'])"
   ]
  },
  {
   "cell_type": "code",
   "execution_count": 36,
   "metadata": {},
   "outputs": [
    {
     "name": "stdout",
     "output_type": "stream",
     "text": [
      "Train on 19218 samples, validate on 8237 samples\n",
      "Epoch 1/20\n",
      " - 33s - loss: 1.0407 - accuracy: 0.6683 - val_loss: 0.2843 - val_accuracy: 0.9415\n",
      "\n",
      "Epoch 00001: val_loss improved from inf to 0.28434, saving model to model.weights.best.hdf5\n",
      "Epoch 2/20\n",
      " - 31s - loss: 0.1149 - accuracy: 0.9623 - val_loss: 0.0489 - val_accuracy: 0.9880\n",
      "\n",
      "Epoch 00002: val_loss improved from 0.28434 to 0.04888, saving model to model.weights.best.hdf5\n",
      "Epoch 3/20\n",
      " - 29s - loss: 0.0427 - accuracy: 0.9864 - val_loss: 0.0594 - val_accuracy: 0.9819\n",
      "\n",
      "Epoch 00003: val_loss did not improve from 0.04888\n",
      "Epoch 4/20\n",
      " - 29s - loss: 0.0267 - accuracy: 0.9916 - val_loss: 0.0240 - val_accuracy: 0.9921\n",
      "\n",
      "Epoch 00004: val_loss improved from 0.04888 to 0.02405, saving model to model.weights.best.hdf5\n",
      "Epoch 5/20\n",
      " - 30s - loss: 0.0207 - accuracy: 0.9931 - val_loss: 0.0012 - val_accuracy: 0.9999\n",
      "\n",
      "Epoch 00005: val_loss improved from 0.02405 to 0.00124, saving model to model.weights.best.hdf5\n",
      "Epoch 6/20\n",
      " - 30s - loss: 0.0167 - accuracy: 0.9953 - val_loss: 0.0311 - val_accuracy: 0.9888\n",
      "\n",
      "Epoch 00006: val_loss did not improve from 0.00124\n",
      "Epoch 7/20\n",
      " - 30s - loss: 0.0164 - accuracy: 0.9951 - val_loss: 0.0017 - val_accuracy: 0.9996\n",
      "\n",
      "Epoch 00007: val_loss did not improve from 0.00124\n",
      "Epoch 8/20\n",
      " - 28s - loss: 0.0125 - accuracy: 0.9967 - val_loss: 1.8785e-04 - val_accuracy: 1.0000\n",
      "\n",
      "Epoch 00008: val_loss improved from 0.00124 to 0.00019, saving model to model.weights.best.hdf5\n",
      "Epoch 9/20\n",
      " - 29s - loss: 0.0112 - accuracy: 0.9968 - val_loss: 0.0070 - val_accuracy: 0.9975\n",
      "\n",
      "Epoch 00009: val_loss did not improve from 0.00019\n",
      "Epoch 10/20\n",
      " - 29s - loss: 0.0123 - accuracy: 0.9968 - val_loss: 6.3099e-04 - val_accuracy: 0.9999\n",
      "\n",
      "Epoch 00010: val_loss did not improve from 0.00019\n",
      "Epoch 11/20\n",
      " - 28s - loss: 0.0097 - accuracy: 0.9972 - val_loss: 3.1300e-04 - val_accuracy: 0.9999\n",
      "\n",
      "Epoch 00011: val_loss did not improve from 0.00019\n",
      "Epoch 12/20\n",
      " - 28s - loss: 0.0122 - accuracy: 0.9967 - val_loss: 2.9559e-04 - val_accuracy: 1.0000\n",
      "\n",
      "Epoch 00012: val_loss did not improve from 0.00019\n",
      "Epoch 13/20\n",
      " - 28s - loss: 0.0091 - accuracy: 0.9972 - val_loss: 9.1133e-04 - val_accuracy: 0.9998\n",
      "\n",
      "Epoch 00013: val_loss did not improve from 0.00019\n",
      "Epoch 14/20\n",
      " - 28s - loss: 0.0096 - accuracy: 0.9975 - val_loss: 4.6183e-04 - val_accuracy: 0.9999\n",
      "\n",
      "Epoch 00014: val_loss did not improve from 0.00019\n",
      "Epoch 15/20\n",
      " - 29s - loss: 0.0087 - accuracy: 0.9976 - val_loss: 9.5637e-05 - val_accuracy: 1.0000\n",
      "\n",
      "Epoch 00015: val_loss improved from 0.00019 to 0.00010, saving model to model.weights.best.hdf5\n",
      "Epoch 16/20\n",
      " - 29s - loss: 0.0113 - accuracy: 0.9975 - val_loss: 2.7844e-04 - val_accuracy: 0.9999\n",
      "\n",
      "Epoch 00016: val_loss did not improve from 0.00010\n",
      "Epoch 17/20\n",
      " - 29s - loss: 0.0099 - accuracy: 0.9976 - val_loss: 1.0723e-04 - val_accuracy: 1.0000\n",
      "\n",
      "Epoch 00017: val_loss did not improve from 0.00010\n",
      "Epoch 18/20\n",
      " - 28s - loss: 0.0099 - accuracy: 0.9979 - val_loss: 8.0947e-04 - val_accuracy: 0.9998\n",
      "\n",
      "Epoch 00018: val_loss did not improve from 0.00010\n",
      "Epoch 19/20\n",
      " - 29s - loss: 0.0076 - accuracy: 0.9981 - val_loss: 0.0026 - val_accuracy: 0.9992\n",
      "\n",
      "Epoch 00019: val_loss did not improve from 0.00010\n",
      "Epoch 20/20\n",
      " - 29s - loss: 0.0103 - accuracy: 0.9978 - val_loss: 3.9892e-06 - val_accuracy: 1.0000\n",
      "\n",
      "Epoch 00020: val_loss improved from 0.00010 to 0.00000, saving model to model.weights.best.hdf5\n"
     ]
    }
   ],
   "source": [
    "from keras.callbacks import ModelCheckpoint   \n",
    "\n",
    "# train the model\n",
    "checkpointer = ModelCheckpoint(filepath='model.weights.best.hdf5', verbose=1, \n",
    "                               save_best_only=True)\n",
    "hist = model.fit(x_train, y_train, batch_size=32, epochs=20,\n",
    "          validation_data=(x_val, y_val), callbacks=[checkpointer], \n",
    "          verbose=2, shuffle=True)"
   ]
  },
  {
   "cell_type": "code",
   "execution_count": 37,
   "metadata": {},
   "outputs": [],
   "source": [
    "model.load_weights('model.weights.best.hdf5')"
   ]
  },
  {
   "cell_type": "code",
   "execution_count": 39,
   "metadata": {},
   "outputs": [
    {
     "data": {
      "text/plain": [
       "(7172, 28, 28, 1)"
      ]
     },
     "execution_count": 39,
     "metadata": {},
     "output_type": "execute_result"
    }
   ],
   "source": [
    "test=validation_set\n",
    "test_labels = test['label'].values\n",
    "test.drop('label', axis = 1, inplace = True)\n",
    "test_images = test.values/255\n",
    "test_images = np.array([np.reshape(i, (28, 28)) for i in test_images])\n",
    "test_images = np.array([i.flatten() for i in test_images])\n",
    "test_labels = label_binrizer.fit_transform(test_labels)\n",
    "test_images = test_images.reshape(test_images.shape[0], 28, 28, 1)\n",
    "\n",
    "\n",
    "test_images.shape"
   ]
  },
  {
   "cell_type": "code",
   "execution_count": 41,
   "metadata": {},
   "outputs": [
    {
     "name": "stdout",
     "output_type": "stream",
     "text": [
      "Accuracy : 96.18%\n",
      "              precision    recall  f1-score   support\n",
      "\n",
      "           0       1.00      1.00      1.00       331\n",
      "           1       1.00      0.98      0.99       432\n",
      "           2       0.98      1.00      0.99       310\n",
      "           3       1.00      1.00      1.00       245\n",
      "           4       1.00      1.00      1.00       498\n",
      "           5       1.00      1.00      1.00       247\n",
      "           6       0.93      0.93      0.93       348\n",
      "           7       1.00      0.94      0.97       436\n",
      "           8       0.97      1.00      0.98       288\n",
      "           9       1.00      0.94      0.97       331\n",
      "          10       0.91      1.00      0.95       209\n",
      "          11       1.00      0.96      0.98       394\n",
      "          12       0.95      0.92      0.94       291\n",
      "          13       1.00      0.98      0.99       246\n",
      "          14       1.00      0.94      0.97       347\n",
      "          15       0.67      1.00      0.81       164\n",
      "          16       0.89      1.00      0.94       144\n",
      "          17       0.98      1.00      0.99       246\n",
      "          18       0.99      0.61      0.76       248\n",
      "          19       0.91      1.00      0.95       266\n",
      "          20       0.92      1.00      0.96       346\n",
      "          21       1.00      1.00      1.00       206\n",
      "          22       0.92      1.00      0.96       267\n",
      "          23       0.99      0.88      0.93       332\n",
      "\n",
      "   micro avg       0.96      0.96      0.96      7172\n",
      "   macro avg       0.96      0.96      0.96      7172\n",
      "weighted avg       0.97      0.96      0.96      7172\n",
      " samples avg       0.96      0.96      0.96      7172\n",
      "\n"
     ]
    },
    {
     "name": "stderr",
     "output_type": "stream",
     "text": [
      "D:\\TheAnaconda\\lib\\site-packages\\sklearn\\metrics\\classification.py:1437: UndefinedMetricWarning: Precision and F-score are ill-defined and being set to 0.0 in samples with no predicted labels.\n",
      "  'precision', 'predicted', average, warn_for)\n"
     ]
    }
   ],
   "source": [
    "y_pred = model.predict(test_images)\n",
    "from sklearn.metrics import accuracy_score,classification_report\n",
    "y_pred = y_pred.round()\n",
    "print('Accuracy : {:.2f}%'.format(accuracy_score(test_labels,y_pred) * 100))\n",
    "print(classification_report(test_labels,y_pred))"
   ]
  },
  {
   "cell_type": "markdown",
   "metadata": {},
   "source": [
    "# ENSEMBLE"
   ]
  },
  {
   "cell_type": "code",
   "execution_count": 15,
   "metadata": {},
   "outputs": [
    {
     "name": "stderr",
     "output_type": "stream",
     "text": [
      "D:\\TheAnaconda\\lib\\site-packages\\sklearn\\ensemble\\forest.py:489: DeprecationWarning: `np.int` is a deprecated alias for the builtin `int`. To silence this warning, use `int` by itself. Doing this will not modify any behavior and is safe. When replacing `np.int`, you may wish to use e.g. `np.int64` or `np.int32` to specify the precision. If you wish to review your current use, check the release note link for additional information.\n",
      "Deprecated in NumPy 1.20; for more details and guidance: https://numpy.org/devdocs/release/1.20.0-notes.html#deprecations\n",
      "  y_store_unique_indices = np.zeros(y.shape, dtype=np.int)\n",
      "D:\\TheAnaconda\\lib\\site-packages\\sklearn\\tree\\tree.py:163: DeprecationWarning: `np.int` is a deprecated alias for the builtin `int`. To silence this warning, use `int` by itself. Doing this will not modify any behavior and is safe. When replacing `np.int`, you may wish to use e.g. `np.int64` or `np.int32` to specify the precision. If you wish to review your current use, check the release note link for additional information.\n",
      "Deprecated in NumPy 1.20; for more details and guidance: https://numpy.org/devdocs/release/1.20.0-notes.html#deprecations\n",
      "  y_encoded = np.zeros(y.shape, dtype=np.int)\n",
      "D:\\TheAnaconda\\lib\\site-packages\\sklearn\\tree\\tree.py:163: DeprecationWarning: `np.int` is a deprecated alias for the builtin `int`. To silence this warning, use `int` by itself. Doing this will not modify any behavior and is safe. When replacing `np.int`, you may wish to use e.g. `np.int64` or `np.int32` to specify the precision. If you wish to review your current use, check the release note link for additional information.\n",
      "Deprecated in NumPy 1.20; for more details and guidance: https://numpy.org/devdocs/release/1.20.0-notes.html#deprecations\n",
      "  y_encoded = np.zeros(y.shape, dtype=np.int)\n",
      "D:\\TheAnaconda\\lib\\site-packages\\sklearn\\tree\\tree.py:163: DeprecationWarning: `np.int` is a deprecated alias for the builtin `int`. To silence this warning, use `int` by itself. Doing this will not modify any behavior and is safe. When replacing `np.int`, you may wish to use e.g. `np.int64` or `np.int32` to specify the precision. If you wish to review your current use, check the release note link for additional information.\n",
      "Deprecated in NumPy 1.20; for more details and guidance: https://numpy.org/devdocs/release/1.20.0-notes.html#deprecations\n",
      "  y_encoded = np.zeros(y.shape, dtype=np.int)\n",
      "D:\\TheAnaconda\\lib\\site-packages\\sklearn\\tree\\tree.py:163: DeprecationWarning: `np.int` is a deprecated alias for the builtin `int`. To silence this warning, use `int` by itself. Doing this will not modify any behavior and is safe. When replacing `np.int`, you may wish to use e.g. `np.int64` or `np.int32` to specify the precision. If you wish to review your current use, check the release note link for additional information.\n",
      "Deprecated in NumPy 1.20; for more details and guidance: https://numpy.org/devdocs/release/1.20.0-notes.html#deprecations\n",
      "  y_encoded = np.zeros(y.shape, dtype=np.int)\n",
      "D:\\TheAnaconda\\lib\\site-packages\\sklearn\\tree\\tree.py:163: DeprecationWarning: `np.int` is a deprecated alias for the builtin `int`. To silence this warning, use `int` by itself. Doing this will not modify any behavior and is safe. When replacing `np.int`, you may wish to use e.g. `np.int64` or `np.int32` to specify the precision. If you wish to review your current use, check the release note link for additional information.\n",
      "Deprecated in NumPy 1.20; for more details and guidance: https://numpy.org/devdocs/release/1.20.0-notes.html#deprecations\n",
      "  y_encoded = np.zeros(y.shape, dtype=np.int)\n",
      "D:\\TheAnaconda\\lib\\site-packages\\sklearn\\tree\\tree.py:163: DeprecationWarning: `np.int` is a deprecated alias for the builtin `int`. To silence this warning, use `int` by itself. Doing this will not modify any behavior and is safe. When replacing `np.int`, you may wish to use e.g. `np.int64` or `np.int32` to specify the precision. If you wish to review your current use, check the release note link for additional information.\n",
      "Deprecated in NumPy 1.20; for more details and guidance: https://numpy.org/devdocs/release/1.20.0-notes.html#deprecations\n",
      "  y_encoded = np.zeros(y.shape, dtype=np.int)\n",
      "D:\\TheAnaconda\\lib\\site-packages\\sklearn\\tree\\tree.py:163: DeprecationWarning: `np.int` is a deprecated alias for the builtin `int`. To silence this warning, use `int` by itself. Doing this will not modify any behavior and is safe. When replacing `np.int`, you may wish to use e.g. `np.int64` or `np.int32` to specify the precision. If you wish to review your current use, check the release note link for additional information.\n",
      "Deprecated in NumPy 1.20; for more details and guidance: https://numpy.org/devdocs/release/1.20.0-notes.html#deprecations\n",
      "  y_encoded = np.zeros(y.shape, dtype=np.int)\n",
      "D:\\TheAnaconda\\lib\\site-packages\\sklearn\\tree\\tree.py:163: DeprecationWarning: `np.int` is a deprecated alias for the builtin `int`. To silence this warning, use `int` by itself. Doing this will not modify any behavior and is safe. When replacing `np.int`, you may wish to use e.g. `np.int64` or `np.int32` to specify the precision. If you wish to review your current use, check the release note link for additional information.\n",
      "Deprecated in NumPy 1.20; for more details and guidance: https://numpy.org/devdocs/release/1.20.0-notes.html#deprecations\n",
      "  y_encoded = np.zeros(y.shape, dtype=np.int)\n",
      "D:\\TheAnaconda\\lib\\site-packages\\sklearn\\tree\\tree.py:163: DeprecationWarning: `np.int` is a deprecated alias for the builtin `int`. To silence this warning, use `int` by itself. Doing this will not modify any behavior and is safe. When replacing `np.int`, you may wish to use e.g. `np.int64` or `np.int32` to specify the precision. If you wish to review your current use, check the release note link for additional information.\n",
      "Deprecated in NumPy 1.20; for more details and guidance: https://numpy.org/devdocs/release/1.20.0-notes.html#deprecations\n",
      "  y_encoded = np.zeros(y.shape, dtype=np.int)\n",
      "D:\\TheAnaconda\\lib\\site-packages\\sklearn\\tree\\tree.py:163: DeprecationWarning: `np.int` is a deprecated alias for the builtin `int`. To silence this warning, use `int` by itself. Doing this will not modify any behavior and is safe. When replacing `np.int`, you may wish to use e.g. `np.int64` or `np.int32` to specify the precision. If you wish to review your current use, check the release note link for additional information.\n",
      "Deprecated in NumPy 1.20; for more details and guidance: https://numpy.org/devdocs/release/1.20.0-notes.html#deprecations\n",
      "  y_encoded = np.zeros(y.shape, dtype=np.int)\n",
      "D:\\TheAnaconda\\lib\\site-packages\\sklearn\\linear_model\\logistic.py:432: FutureWarning: Default solver will be changed to 'lbfgs' in 0.22. Specify a solver to silence this warning.\n",
      "  FutureWarning)\n",
      "D:\\TheAnaconda\\lib\\site-packages\\sklearn\\linear_model\\logistic.py:469: FutureWarning: Default multi_class will be changed to 'auto' in 0.22. Specify the multi_class option to silence this warning.\n",
      "  \"this warning.\", FutureWarning)\n",
      "D:\\TheAnaconda\\lib\\site-packages\\sklearn\\neighbors\\base.py:908: DeprecationWarning: `np.int` is a deprecated alias for the builtin `int`. To silence this warning, use `int` by itself. Doing this will not modify any behavior and is safe. When replacing `np.int`, you may wish to use e.g. `np.int64` or `np.int32` to specify the precision. If you wish to review your current use, check the release note link for additional information.\n",
      "Deprecated in NumPy 1.20; for more details and guidance: https://numpy.org/devdocs/release/1.20.0-notes.html#deprecations\n",
      "  self._y = np.empty(y.shape, dtype=np.int)\n",
      "D:\\TheAnaconda\\lib\\site-packages\\sklearn\\ensemble\\base.py:158: DeprecationWarning: `np.int` is a deprecated alias for the builtin `int`. To silence this warning, use `int` by itself. Doing this will not modify any behavior and is safe. When replacing `np.int`, you may wish to use e.g. `np.int64` or `np.int32` to specify the precision. If you wish to review your current use, check the release note link for additional information.\n",
      "Deprecated in NumPy 1.20; for more details and guidance: https://numpy.org/devdocs/release/1.20.0-notes.html#deprecations\n",
      "  dtype=np.int)\n"
     ]
    }
   ],
   "source": [
    "from sklearn import model_selection\n",
    "from sklearn.ensemble import VotingClassifier\n",
    "\n",
    "kfold = model_selection.KFold(n_splits=10)\n",
    "\n",
    "estimators = [] \n",
    "\n",
    "estimators.append(('SVM', clf)) \n",
    "\n",
    "estimators.append(('Random Forest', random_forest_model)) \n",
    "\n",
    "estimators.append(('Logistic regression', model)) \n",
    "\n",
    "estimators.append(('KNN', classifier)) \n",
    "  \n",
    "ensemble = VotingClassifier(estimators) \n",
    "\n",
    "ensemble.fit(x_train, y_train)\n",
    "\n",
    "\n",
    "y_test_pred = ensemble.predict(x_test)"
   ]
  },
  {
   "cell_type": "code",
   "execution_count": 18,
   "metadata": {},
   "outputs": [
    {
     "name": "stdout",
     "output_type": "stream",
     "text": [
      "\n",
      "Confusion matrix : \n",
      "[[331   0   0   0   0   0   0   0   0   0   0   0   0   0   0   0   0   0\n",
      "    0   0   0   0   0   0]\n",
      " [  0 411   0   5   0   0   0   0   0  16   0   0   0   0   0   0   0   0\n",
      "    0   0   0   0   0   0]\n",
      " [  0   0 310   0   0   0   0   0   0   0   0   0   0   0   0   0   0   0\n",
      "    0   0   0   0   0   0]\n",
      " [  0   0   0 242   0   0   0   0   0   0   0   0   0   0   0   0   3   0\n",
      "    0   0   0   0   0   0]\n",
      " [  0   0   0   0 495   0   0   0   0   0   0   0   0   0   0   0   0   3\n",
      "    0   0   0   0   0   0]\n",
      " [  0   8  20   2   0 216   0   0   0   0   0   0   0   0   0   0   0   0\n",
      "    1   0   0   0   0   0]\n",
      " [  0   0   0   5   0   1 323   0   0   0   0   0   0   0   0   1   0   0\n",
      "   18   0   0   0   0   0]\n",
      " [  1   0   0   0  12   0  52 356   0   0   0   0   0   0   0   0   0   0\n",
      "    0  15   0   0   0   0]\n",
      " [ 14   1   0   2   1   1   0   1 213   1   0   5   0   0   0   0  18   0\n",
      "    3   0   0   0   0  28]\n",
      " [  1   2   0  29   2  26   1   0  24 156   1   0   0   0   2   0  35  11\n",
      "    0  19   0  21   0   1]\n",
      " [  0   0   7   0   0  21   0   5   0   0 175   0   0   0   0   0   0   0\n",
      "    1   0   0   0   0   0]\n",
      " [ 26   0   0   2  29   0   0   0  16   0   0 235  22   0   0   0   0  61\n",
      "    0   0   0   0   0   3]\n",
      " [ 39  23   4   1  23   2   3   0   3   0   0  10 165   1   0   1   0   1\n",
      "   15   0   0   0   0   0]\n",
      " [  1   1  47  14   0   1  15   0   1   0   0   0   7 158   0   1   0   0\n",
      "    0   0   0   0   0   0]\n",
      " [  0   0   0   2   0   0   0   0   0   0   0   0   0   0 345   0   0   0\n",
      "    0   0   0   0   0   0]\n",
      " [  8   0   0   0   0   0   0   0   0   0   0   0   0   0   0 156   0   0\n",
      "    0   0   0   0   0   0]\n",
      " [  3   9   1   0   1   6   0   0   7   1  12   2   1   0   0   0  74   1\n",
      "    0  23   3   0   0   0]\n",
      " [ 15   0   0   7  21   0   0   0  20   0   0  30   0   0   0   0   0 153\n",
      "    0   0   0   0   0   0]\n",
      " [  0   0   3   1   0   5   8   7  19   0   2   0   0   0   0   0   4   0\n",
      "  181   0   0   1  17   0]\n",
      " [  0  22   0  31   0   0   0   0   0  35   1   0   0   0   0   0  34   0\n",
      "    0 143   0   0   0   0]\n",
      " [  0   4   0   3   0  22   0   0   2  21   0   0   1   0   9   0  31   0\n",
      "   10  53 148  42   0   0]\n",
      " [  0   7  10   0   1  12   0   0   1  10   0   0   2   0   0   0  16   0\n",
      "    0  17  13 117   0   0]\n",
      " [  0   0   0  17   0   7   3   0   0   0   0   0   1   0   9   0  32   5\n",
      "   21   0   0  21 151   0]\n",
      " [  2   0  32   0   8   1   5   3  26   1   0   0   0   0   0   0  16  10\n",
      "   21   3   7   1   0 196]]\n",
      "\n",
      "Accuracy : 75.99%\n",
      "\n",
      "Classification report:\n",
      "              precision    recall  f1-score   support\n",
      "\n",
      "           0       0.75      1.00      0.86       331\n",
      "           1       0.84      0.95      0.89       432\n",
      "           2       0.71      1.00      0.83       310\n",
      "           3       0.67      0.99      0.80       245\n",
      "           4       0.83      0.99      0.91       498\n",
      "           5       0.67      0.87      0.76       247\n",
      "           6       0.79      0.93      0.85       348\n",
      "           7       0.96      0.82      0.88       436\n",
      "           8       0.64      0.74      0.69       288\n",
      "           9       0.65      0.47      0.55       331\n",
      "          10       0.92      0.84      0.88       209\n",
      "          11       0.83      0.60      0.70       394\n",
      "          12       0.83      0.57      0.67       291\n",
      "          13       0.99      0.64      0.78       246\n",
      "          14       0.95      0.99      0.97       347\n",
      "          15       0.98      0.95      0.97       164\n",
      "          16       0.28      0.51      0.36       144\n",
      "          17       0.62      0.62      0.62       246\n",
      "          18       0.67      0.73      0.70       248\n",
      "          19       0.52      0.54      0.53       266\n",
      "          20       0.87      0.43      0.57       346\n",
      "          21       0.58      0.57      0.57       206\n",
      "          22       0.90      0.57      0.69       267\n",
      "          23       0.86      0.59      0.70       332\n",
      "\n",
      "    accuracy                           0.76      7172\n",
      "   macro avg       0.76      0.75      0.74      7172\n",
      "weighted avg       0.78      0.76      0.76      7172\n",
      "\n"
     ]
    }
   ],
   "source": [
    "print(f\"\\nConfusion matrix : \\n{confusion_matrix(y_test, y_test_pred)}\")\n",
    "print(f\"\\nAccuracy : {accuracy_score(y_test, y_test_pred) * 100 :.2f}%\")\n",
    "print(f\"\\nClassification report:\\n{classification_report(y_test, y_test_pred)}\")"
   ]
  },
  {
   "cell_type": "code",
   "execution_count": null,
   "metadata": {},
   "outputs": [],
   "source": []
  }
 ],
 "metadata": {
  "colab": {
   "name": "Sign Language Alphabet recognition using CNN.ipynb",
   "provenance": []
  },
  "kernelspec": {
   "display_name": "Python 3",
   "language": "python",
   "name": "python3"
  },
  "language_info": {
   "codemirror_mode": {
    "name": "ipython",
    "version": 3
   },
   "file_extension": ".py",
   "mimetype": "text/x-python",
   "name": "python",
   "nbconvert_exporter": "python",
   "pygments_lexer": "ipython3",
   "version": "3.7.4"
  }
 },
 "nbformat": 4,
 "nbformat_minor": 1
}
